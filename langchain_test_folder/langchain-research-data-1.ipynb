{
 "cells": [
  {
   "cell_type": "code",
   "execution_count": 27,
   "metadata": {},
   "outputs": [],
   "source": [
    "!pip -q install langchain openai tiktoken"
   ]
  },
  {
   "cell_type": "code",
   "execution_count": 28,
   "metadata": {},
   "outputs": [],
   "source": [
    "import os"
   ]
  },
  {
   "cell_type": "code",
   "execution_count": 29,
   "metadata": {},
   "outputs": [
    {
     "name": "stdout",
     "output_type": "stream",
     "text": [
      "Name: langchain\n",
      "Version: 0.1.0\n",
      "Summary: Building applications with LLMs through composability\n",
      "Home-page: https://github.com/langchain-ai/langchain\n",
      "Author: \n",
      "Author-email: \n",
      "License: MIT\n",
      "Location: c:\\users\\jenny\\appdata\\local\\packages\\pythonsoftwarefoundation.python.3.9_qbz5n2kfra8p0\\localcache\\local-packages\\python39\\site-packages\n",
      "Requires: aiohttp, async-timeout, dataclasses-json, jsonpatch, langchain-community, langchain-core, langsmith, numpy, pydantic, PyYAML, requests, SQLAlchemy, tenacity\n",
      "Required-by: \n"
     ]
    }
   ],
   "source": [
    "!pip show langchain"
   ]
  },
  {
   "cell_type": "markdown",
   "metadata": {},
   "source": [
    "setup wikipedia"
   ]
  },
  {
   "cell_type": "code",
   "execution_count": 25,
   "metadata": {},
   "outputs": [],
   "source": [
    "!pip -q install wikipedia"
   ]
  },
  {
   "cell_type": "code",
   "execution_count": 30,
   "metadata": {},
   "outputs": [],
   "source": [
    "from langchain.utilities import WikipediaAPIWrapper"
   ]
  },
  {
   "cell_type": "code",
   "execution_count": 33,
   "metadata": {},
   "outputs": [],
   "source": [
    "!pip -q install duckduckgo-search"
   ]
  },
  {
   "cell_type": "code",
   "execution_count": 35,
   "metadata": {},
   "outputs": [],
   "source": [
    "from langchain.tools import DuckDuckGoSearchRun"
   ]
  },
  {
   "cell_type": "code",
   "execution_count": 119,
   "metadata": {},
   "outputs": [],
   "source": [
    "from langchain.tools import BaseTool, StructuredTool, tool"
   ]
  },
  {
   "cell_type": "code",
   "execution_count": 102,
   "metadata": {},
   "outputs": [],
   "source": [
    "from langchain.tools import DuckDuckGoSearchResults, Tool"
   ]
  },
  {
   "cell_type": "code",
   "execution_count": 39,
   "metadata": {},
   "outputs": [],
   "source": [
    "search1 = DuckDuckGoSearchResults()"
   ]
  },
  {
   "cell_type": "code",
   "execution_count": 40,
   "metadata": {},
   "outputs": [
    {
     "name": "stderr",
     "output_type": "stream",
     "text": [
      "DEBUG:asyncio:Using selector: SelectSelector\n",
      "DEBUG:duckduckgo_search.AsyncDDGS:_aget_url() https://duckduckgo.com 200 3 0.172063 23164\n",
      "DEBUG:duckduckgo_search.AsyncDDGS:_aget_url() https://links.duckduckgo.com/d.js 200 3 0.887735 29268\n"
     ]
    },
    {
     "data": {
      "text/plain": [
       "'[snippet: Conversion rate optimization definition: CRO is the practice of increasing the percentage of users who perform a desired action—or conversion—on a website. 6 steps for CRO success: Step 1: identify important conversions. Decide on the desired action you want to target, depending on your business. Step 2: analyze your conversion funnel., title: What is Conversion Rate Optimization (CRO)? A Complete Guide - Hotjar, link: https://www.hotjar.com/conversion-rate-optimization/], [snippet: With conversion rate optimization, you\\'ll get more out of your existing website traffic while ensuring you\\'re targeting qualified leads. Although this is a straightforward concept, setting a conversion goal isn\\'t as easy as saying, \"This page converted 50 people this month, so we want to convert 100 people next month.\" ..., title: Conversion Rate Optimization (CRO): 8 Ways To Get Started - HubSpot Blog, link: https://blog.hubspot.com/marketing/conversion-rate-optimization-guide], [snippet: Suppose you want to generate a turnover of €4 million next year, you will have to spend at least twice as much advertising budget (i.e., €150,000), increase your conversion rate from 2% to 4% or increase your average order value from €150 to €300. In general you can\\'t easily double the average order value, doubling your ad budget is ..., title: Conversion Rate Optimization (CRO): Ultimate Guide [+ Checklist], link: https://gustdebacker.com/conversion-rate-optimization/], [snippet: Conversion rate optimization is the process of improving the performance of a website, landing page, or app by increasing the percentage of visitors who take a desired action, such as making a purchase, filling out a form, subscribing, contacting your sales team, or any other action. For example, if a page has a conversion rate of 2 percent and ..., title: What is conversion rate optimization (CRO)? - LogRocket Blog, link: https://blog.logrocket.com/product-management/what-is-conversion-rate-optimization-cro/]'"
      ]
     },
     "execution_count": 40,
     "metadata": {},
     "output_type": "execute_result"
    }
   ],
   "source": [
    "search1.run(\"what is conversion rate optimization\")"
   ]
  },
  {
   "cell_type": "code",
   "execution_count": 55,
   "metadata": {},
   "outputs": [
    {
     "name": "stderr",
     "output_type": "stream",
     "text": [
      "DEBUG:httpx:load_ssl_context verify=True cert=None trust_env=True http2=False\n",
      "DEBUG:httpx:load_verify_locations cafile='C:\\\\Users\\\\jenny\\\\AppData\\\\Local\\\\Packages\\\\PythonSoftwareFoundation.Python.3.9_qbz5n2kfra8p0\\\\LocalCache\\\\local-packages\\\\Python39\\\\site-packages\\\\certifi\\\\cacert.pem'\n",
      "DEBUG:httpx:load_ssl_context verify=True cert=None trust_env=True http2=False\n",
      "DEBUG:httpx:load_verify_locations cafile='C:\\\\Users\\\\jenny\\\\AppData\\\\Local\\\\Packages\\\\PythonSoftwareFoundation.Python.3.9_qbz5n2kfra8p0\\\\LocalCache\\\\local-packages\\\\Python39\\\\site-packages\\\\certifi\\\\cacert.pem'\n"
     ]
    }
   ],
   "source": [
    "from langchain import OpenAI\n",
    "\n",
    "llm = OpenAI(temperature = 0)"
   ]
  },
  {
   "cell_type": "code",
   "execution_count": 112,
   "metadata": {},
   "outputs": [],
   "source": [
    "duckduckgo_tool = Tool.from_function(\n",
    "    name =\"DuckDuckGo-Search\",\n",
    "    func = search.run,\n",
    "    description = \"Useful for when you need to do a search on the internet to find infomraion that another tool can't find. be specific with your input\"\n",
    ")"
   ]
  },
  {
   "cell_type": "code",
   "execution_count": 113,
   "metadata": {},
   "outputs": [],
   "source": [
    "tool_name = ['wikipedia'] #add more"
   ]
  },
  {
   "cell_type": "code",
   "execution_count": 124,
   "metadata": {},
   "outputs": [],
   "source": [
    "search = DuckDuckGoSearchRun()\n",
    "\n",
    "duckduckgo_tool = Tool.from_function(\n",
    "    func=search.run,\n",
    "    name=\"DuckDuckGo-Search\",\n",
    "    description=\"useful for when you need to search the internet for information\"\n",
    ")\n",
    "tools = [duckduckgo_tool]"
   ]
  },
  {
   "cell_type": "code",
   "execution_count": 130,
   "metadata": {},
   "outputs": [],
   "source": [
    "wikipedia = WikipediaAPIWrapper()\n",
    "wikipedia_tool = Tool.from_function(\n",
    "    name = 'wikipedia',\n",
    "    func = wikipedia.run,\n",
    "    description = \"Useful for when you eed to look up a topic country or person on wikipedia\"\n",
    ")\n",
    "tools.append(wikipedia_tool)"
   ]
  },
  {
   "cell_type": "code",
   "execution_count": 131,
   "metadata": {},
   "outputs": [
    {
     "name": "stdout",
     "output_type": "stream",
     "text": [
      "[Tool(name='DuckDuckGo-Search', description='useful for when you need to search the internet for information', func=<bound method BaseTool.run of DuckDuckGoSearchRun()>), Tool(name='wikipedia', description='Useful for when you eed to look up a topic country or person on wikipedia', func=<bound method WikipediaAPIWrapper.run of WikipediaAPIWrapper(wiki_client=<module 'wikipedia' from 'C:\\\\Users\\\\jenny\\\\AppData\\\\Local\\\\Packages\\\\PythonSoftwareFoundation.Python.3.9_qbz5n2kfra8p0\\\\LocalCache\\\\local-packages\\\\Python39\\\\site-packages\\\\wikipedia\\\\__init__.py'>, top_k_results=3, lang='en', load_all_available_meta=False, doc_content_chars_max=4000)>)]\n"
     ]
    }
   ],
   "source": [
    "print(tools)"
   ]
  },
  {
   "cell_type": "markdown",
   "metadata": {},
   "source": [
    "using agent"
   ]
  },
  {
   "cell_type": "code",
   "execution_count": 132,
   "metadata": {},
   "outputs": [],
   "source": [
    "from langchain.agents import initialize_agent\n",
    "\n",
    "zero_shot_agent = initialize_agent(\n",
    "    agent = \"zero-shot-react-description\",\n",
    "    tools = tools,\n",
    "    llm= llm,\n",
    "    verbose=True,\n",
    "    max_iterations=3\n",
    ")"
   ]
  },
  {
   "cell_type": "code",
   "execution_count": 133,
   "metadata": {},
   "outputs": [
    {
     "name": "stderr",
     "output_type": "stream",
     "text": [
      "DEBUG:openai._base_client:Request options: {'method': 'post', 'url': '/completions', 'files': None, 'json_data': {'model': 'gpt-3.5-turbo-instruct', 'prompt': ['Answer the following questions as best you can. You have access to the following tools:\\n\\nDuckDuckGo-Search: useful for when you need to search the internet for information\\nwikipedia: Useful for when you eed to look up a topic country or person on wikipedia\\n\\nUse the following format:\\n\\nQuestion: the input question you must answer\\nThought: you should always think about what to do\\nAction: the action to take, should be one of [DuckDuckGo-Search, wikipedia]\\nAction Input: the input to the action\\nObservation: the result of the action\\n... (this Thought/Action/Action Input/Observation can repeat N times)\\nThought: I now know the final answer\\nFinal Answer: the final answer to the original input question\\n\\nBegin!\\n\\nQuestion: how does the conversion rate optimization work?\\nThought:'], 'frequency_penalty': 0, 'logit_bias': {}, 'max_tokens': 256, 'n': 1, 'presence_penalty': 0, 'stop': ['\\nObservation:', '\\n\\tObservation:'], 'temperature': 0.0, 'top_p': 1}}\n",
      "DEBUG:httpcore.connection:close.started\n",
      "DEBUG:httpcore.connection:close.complete\n",
      "DEBUG:httpcore.connection:connect_tcp.started host='api.openai.com' port=443 local_address=None timeout=None socket_options=None\n"
     ]
    },
    {
     "name": "stderr",
     "output_type": "stream",
     "text": [
      "DEBUG:httpcore.connection:connect_tcp.complete return_value=<httpcore._backends.sync.SyncStream object at 0x000001912E7900D0>\n",
      "DEBUG:httpcore.connection:start_tls.started ssl_context=<ssl.SSLContext object at 0x000001912E3D07C0> server_hostname='api.openai.com' timeout=None\n",
      "DEBUG:httpcore.connection:start_tls.complete return_value=<httpcore._backends.sync.SyncStream object at 0x000001912E7A6040>\n",
      "DEBUG:httpcore.http11:send_request_headers.started request=<Request [b'POST']>\n",
      "DEBUG:httpcore.http11:send_request_headers.complete\n",
      "DEBUG:httpcore.http11:send_request_body.started request=<Request [b'POST']>\n",
      "DEBUG:httpcore.http11:send_request_body.complete\n",
      "DEBUG:httpcore.http11:receive_response_headers.started request=<Request [b'POST']>\n"
     ]
    },
    {
     "name": "stdout",
     "output_type": "stream",
     "text": [
      "\n",
      "\n",
      "\u001b[1m> Entering new AgentExecutor chain...\u001b[0m\n"
     ]
    },
    {
     "name": "stderr",
     "output_type": "stream",
     "text": [
      "DEBUG:httpcore.http11:receive_response_headers.complete return_value=(b'HTTP/1.1', 200, b'OK', [(b'Date', b'Tue, 05 Mar 2024 00:10:08 GMT'), (b'Content-Type', b'application/json'), (b'Transfer-Encoding', b'chunked'), (b'Connection', b'keep-alive'), (b'access-control-allow-origin', b'*'), (b'Cache-Control', b'no-cache, must-revalidate'), (b'openai-model', b'gpt-3.5-turbo-instruct'), (b'openai-organization', b'user-a4wpgwdf6yuhhn0rjoadsjhh'), (b'openai-processing-ms', b'450'), (b'openai-version', b'2020-10-01'), (b'strict-transport-security', b'max-age=15724800; includeSubDomains'), (b'x-ratelimit-limit-requests', b'3000'), (b'x-ratelimit-limit-tokens', b'250000'), (b'x-ratelimit-remaining-requests', b'2999'), (b'x-ratelimit-remaining-tokens', b'249550'), (b'x-ratelimit-reset-requests', b'20ms'), (b'x-ratelimit-reset-tokens', b'108ms'), (b'x-request-id', b'req_ea4704265d789bbda6772ae9203f210c'), (b'CF-Cache-Status', b'DYNAMIC'), (b'Server', b'cloudflare'), (b'CF-RAY', b'85f5e1967ac0cfd5-SJC'), (b'Content-Encoding', b'gzip'), (b'alt-svc', b'h3=\":443\"; ma=86400')])\n",
      "INFO:httpx:HTTP Request: POST https://api.openai.com/v1/completions \"HTTP/1.1 200 OK\"\n",
      "DEBUG:httpcore.http11:receive_response_body.started request=<Request [b'POST']>\n",
      "DEBUG:httpcore.http11:receive_response_body.complete\n",
      "DEBUG:httpcore.http11:response_closed.started\n",
      "DEBUG:httpcore.http11:response_closed.complete\n",
      "DEBUG:openai._base_client:HTTP Request: POST https://api.openai.com/v1/completions \"200 OK\"\n",
      "DEBUG:asyncio:Using selector: SelectSelector\n",
      "DEBUG:duckduckgo_search.AsyncDDGS:_aget_url() https://duckduckgo.com 200 3 0.18489 23066\n"
     ]
    },
    {
     "name": "stdout",
     "output_type": "stream",
     "text": [
      "\u001b[32;1m\u001b[1;3m I should search for information on conversion rate optimization\n",
      "Action: DuckDuckGo-Search\n",
      "Action Input: \"conversion rate optimization\"\u001b[0m"
     ]
    },
    {
     "name": "stderr",
     "output_type": "stream",
     "text": [
      "DEBUG:duckduckgo_search.AsyncDDGS:_aget_url() https://links.duckduckgo.com/d.js 200 3 0.817053 24915\n",
      "DEBUG:openai._base_client:Request options: {'method': 'post', 'url': '/completions', 'files': None, 'json_data': {'model': 'gpt-3.5-turbo-instruct', 'prompt': ['Answer the following questions as best you can. You have access to the following tools:\\n\\nDuckDuckGo-Search: useful for when you need to search the internet for information\\nwikipedia: Useful for when you eed to look up a topic country or person on wikipedia\\n\\nUse the following format:\\n\\nQuestion: the input question you must answer\\nThought: you should always think about what to do\\nAction: the action to take, should be one of [DuckDuckGo-Search, wikipedia]\\nAction Input: the input to the action\\nObservation: the result of the action\\n... (this Thought/Action/Action Input/Observation can repeat N times)\\nThought: I now know the final answer\\nFinal Answer: the final answer to the original input question\\n\\nBegin!\\n\\nQuestion: how does the conversion rate optimization work?\\nThought: I should search for information on conversion rate optimization\\nAction: DuckDuckGo-Search\\nAction Input: \"conversion rate optimization\"\\nObservation: Learn how to increase the percentage of visitors who complete a desired action on your website with CRO. This guide covers what is CRO, how to calculate it, where to implement it, and how to use CRO strategies and tools. Conversion rate optimization definition: CRO is the practice of increasing the percentage of users who perform a desired action—or conversion—on a website. 6 steps for CRO success: Step 1: identify important conversions. Decide on the desired action you want to target, depending on your business. Step 2: analyze your conversion funnel. How to prepare for a CRO audit. A conversion rate optimization audit is a 360-degree evaluation of the user experience (UX) that tests how your webpage is performing, identifies factors that could be hurting your conversion rate, and helps you prioritize improvements.. The best time to do a CRO audit is after launch; be careful not to dive into a full-scale audit too early, before you\\'ve had ... Conversion rate optimization (CRO) is the process of increasing the percentage of visitors who perform a desired action on your website. This could be anything from buying a product, signing up for a webinar, interacting with live chat, to enrolling in a course upsell. But increasing conversions is not the be-all and end-all of CRO. Suppose you want to generate a turnover of €4 million next year, you will have to spend at least twice as much advertising budget (i.e., €150,000), increase your conversion rate from 2% to 4% or increase your average order value from €150 to €300. In general you can\\'t easily double the average order value, doubling your ad budget is ...\\nThought:'], 'frequency_penalty': 0, 'logit_bias': {}, 'max_tokens': 256, 'n': 1, 'presence_penalty': 0, 'stop': ['\\nObservation:', '\\n\\tObservation:'], 'temperature': 0.0, 'top_p': 1}}\n",
      "DEBUG:httpcore.http11:send_request_headers.started request=<Request [b'POST']>\n",
      "DEBUG:httpcore.http11:send_request_headers.complete\n",
      "DEBUG:httpcore.http11:send_request_body.started request=<Request [b'POST']>\n",
      "DEBUG:httpcore.http11:send_request_body.complete\n",
      "DEBUG:httpcore.http11:receive_response_headers.started request=<Request [b'POST']>\n"
     ]
    },
    {
     "name": "stdout",
     "output_type": "stream",
     "text": [
      "\n",
      "Observation: \u001b[36;1m\u001b[1;3mLearn how to increase the percentage of visitors who complete a desired action on your website with CRO. This guide covers what is CRO, how to calculate it, where to implement it, and how to use CRO strategies and tools. Conversion rate optimization definition: CRO is the practice of increasing the percentage of users who perform a desired action—or conversion—on a website. 6 steps for CRO success: Step 1: identify important conversions. Decide on the desired action you want to target, depending on your business. Step 2: analyze your conversion funnel. How to prepare for a CRO audit. A conversion rate optimization audit is a 360-degree evaluation of the user experience (UX) that tests how your webpage is performing, identifies factors that could be hurting your conversion rate, and helps you prioritize improvements.. The best time to do a CRO audit is after launch; be careful not to dive into a full-scale audit too early, before you've had ... Conversion rate optimization (CRO) is the process of increasing the percentage of visitors who perform a desired action on your website. This could be anything from buying a product, signing up for a webinar, interacting with live chat, to enrolling in a course upsell. But increasing conversions is not the be-all and end-all of CRO. Suppose you want to generate a turnover of €4 million next year, you will have to spend at least twice as much advertising budget (i.e., €150,000), increase your conversion rate from 2% to 4% or increase your average order value from €150 to €300. In general you can't easily double the average order value, doubling your ad budget is ...\u001b[0m\n",
      "Thought:"
     ]
    },
    {
     "name": "stderr",
     "output_type": "stream",
     "text": [
      "DEBUG:httpcore.http11:receive_response_headers.complete return_value=(b'HTTP/1.1', 200, b'OK', [(b'Date', b'Tue, 05 Mar 2024 00:10:10 GMT'), (b'Content-Type', b'application/json'), (b'Transfer-Encoding', b'chunked'), (b'Connection', b'keep-alive'), (b'access-control-allow-origin', b'*'), (b'Cache-Control', b'no-cache, must-revalidate'), (b'openai-model', b'gpt-3.5-turbo-instruct'), (b'openai-organization', b'user-a4wpgwdf6yuhhn0rjoadsjhh'), (b'openai-processing-ms', b'561'), (b'openai-version', b'2020-10-01'), (b'strict-transport-security', b'max-age=15724800; includeSubDomains'), (b'x-ratelimit-limit-requests', b'3000'), (b'x-ratelimit-limit-tokens', b'250000'), (b'x-ratelimit-remaining-requests', b'2999'), (b'x-ratelimit-remaining-tokens', b'249100'), (b'x-ratelimit-reset-requests', b'20ms'), (b'x-ratelimit-reset-tokens', b'216ms'), (b'x-request-id', b'req_51eb5ed4d5f47b5af0cdc9238a5876f9'), (b'CF-Cache-Status', b'DYNAMIC'), (b'Server', b'cloudflare'), (b'CF-RAY', b'85f5e1a22c9dcfd5-SJC'), (b'Content-Encoding', b'gzip'), (b'alt-svc', b'h3=\":443\"; ma=86400')])\n",
      "INFO:httpx:HTTP Request: POST https://api.openai.com/v1/completions \"HTTP/1.1 200 OK\"\n",
      "DEBUG:httpcore.http11:receive_response_body.started request=<Request [b'POST']>\n",
      "DEBUG:httpcore.http11:receive_response_body.complete\n",
      "DEBUG:httpcore.http11:response_closed.started\n",
      "DEBUG:httpcore.http11:response_closed.complete\n",
      "DEBUG:openai._base_client:HTTP Request: POST https://api.openai.com/v1/completions \"200 OK\"\n"
     ]
    },
    {
     "name": "stdout",
     "output_type": "stream",
     "text": [
      "\u001b[32;1m\u001b[1;3m I should also check Wikipedia for more information on conversion rate optimization\n",
      "Action: wikipedia\n",
      "Action Input: \"conversion rate optimization\"\u001b[0m"
     ]
    },
    {
     "name": "stderr",
     "output_type": "stream",
     "text": [
      "DEBUG:urllib3.connectionpool:Starting new HTTP connection (1): en.wikipedia.org:80\n",
      "DEBUG:urllib3.connectionpool:http://en.wikipedia.org:80 \"GET /w/api.php?list=search&srprop=&srlimit=3&limit=3&srsearch=conversion+rate+optimization&format=json&action=query HTTP/1.1\" 301 0\n",
      "DEBUG:urllib3.connectionpool:Starting new HTTPS connection (1): en.wikipedia.org:443\n",
      "DEBUG:urllib3.connectionpool:https://en.wikipedia.org:443 \"GET /w/api.php?list=search&srprop=&srlimit=3&limit=3&srsearch=conversion+rate+optimization&format=json&action=query HTTP/1.1\" 200 358\n",
      "DEBUG:urllib3.connectionpool:Starting new HTTP connection (1): en.wikipedia.org:80\n",
      "DEBUG:urllib3.connectionpool:http://en.wikipedia.org:80 \"GET /w/api.php?prop=info%7Cpageprops&inprop=url&ppprop=disambiguation&redirects=&titles=Conversion+rate+optimization&format=json&action=query HTTP/1.1\" 301 0\n",
      "DEBUG:urllib3.connectionpool:Starting new HTTPS connection (1): en.wikipedia.org:443\n",
      "DEBUG:urllib3.connectionpool:https://en.wikipedia.org:443 \"GET /w/api.php?prop=info%7Cpageprops&inprop=url&ppprop=disambiguation&redirects=&titles=Conversion+rate+optimization&format=json&action=query HTTP/1.1\" 200 526\n",
      "DEBUG:urllib3.connectionpool:Starting new HTTP connection (1): en.wikipedia.org:80\n",
      "DEBUG:urllib3.connectionpool:http://en.wikipedia.org:80 \"GET /w/api.php?prop=extracts&explaintext=&exintro=&titles=Conversion+rate+optimization&format=json&action=query HTTP/1.1\" 301 0\n",
      "DEBUG:urllib3.connectionpool:Starting new HTTPS connection (1): en.wikipedia.org:443\n",
      "DEBUG:urllib3.connectionpool:https://en.wikipedia.org:443 \"GET /w/api.php?prop=extracts&explaintext=&exintro=&titles=Conversion+rate+optimization&format=json&action=query HTTP/1.1\" 200 315\n",
      "DEBUG:urllib3.connectionpool:Starting new HTTP connection (1): en.wikipedia.org:80\n",
      "DEBUG:urllib3.connectionpool:http://en.wikipedia.org:80 \"GET /w/api.php?prop=info%7Cpageprops&inprop=url&ppprop=disambiguation&redirects=&titles=App+store+optimization&format=json&action=query HTTP/1.1\" 301 0\n",
      "DEBUG:urllib3.connectionpool:Starting new HTTPS connection (1): en.wikipedia.org:443\n",
      "DEBUG:urllib3.connectionpool:https://en.wikipedia.org:443 \"GET /w/api.php?prop=info%7Cpageprops&inprop=url&ppprop=disambiguation&redirects=&titles=App+store+optimization&format=json&action=query HTTP/1.1\" 200 505\n",
      "DEBUG:urllib3.connectionpool:Starting new HTTP connection (1): en.wikipedia.org:80\n",
      "DEBUG:urllib3.connectionpool:http://en.wikipedia.org:80 \"GET /w/api.php?prop=extracts&explaintext=&exintro=&titles=App+store+optimization&format=json&action=query HTTP/1.1\" 301 0\n",
      "DEBUG:urllib3.connectionpool:Starting new HTTPS connection (1): en.wikipedia.org:443\n",
      "DEBUG:urllib3.connectionpool:https://en.wikipedia.org:443 \"GET /w/api.php?prop=extracts&explaintext=&exintro=&titles=App+store+optimization&format=json&action=query HTTP/1.1\" 200 844\n",
      "DEBUG:urllib3.connectionpool:Starting new HTTP connection (1): en.wikipedia.org:80\n",
      "DEBUG:urllib3.connectionpool:http://en.wikipedia.org:80 \"GET /w/api.php?prop=info%7Cpageprops&inprop=url&ppprop=disambiguation&redirects=&titles=Conversion+marketing&format=json&action=query HTTP/1.1\" 301 0\n",
      "DEBUG:urllib3.connectionpool:Starting new HTTPS connection (1): en.wikipedia.org:443\n",
      "DEBUG:urllib3.connectionpool:https://en.wikipedia.org:443 \"GET /w/api.php?prop=info%7Cpageprops&inprop=url&ppprop=disambiguation&redirects=&titles=Conversion+marketing&format=json&action=query HTTP/1.1\" 200 496\n",
      "DEBUG:urllib3.connectionpool:Starting new HTTP connection (1): en.wikipedia.org:80\n",
      "DEBUG:urllib3.connectionpool:http://en.wikipedia.org:80 \"GET /w/api.php?prop=extracts&explaintext=&exintro=&titles=Conversion+marketing&format=json&action=query HTTP/1.1\" 301 0\n",
      "DEBUG:urllib3.connectionpool:Starting new HTTPS connection (1): en.wikipedia.org:443\n",
      "DEBUG:urllib3.connectionpool:https://en.wikipedia.org:443 \"GET /w/api.php?prop=extracts&explaintext=&exintro=&titles=Conversion+marketing&format=json&action=query HTTP/1.1\" 200 278\n",
      "DEBUG:openai._base_client:Request options: {'method': 'post', 'url': '/completions', 'files': None, 'json_data': {'model': 'gpt-3.5-turbo-instruct', 'prompt': ['Answer the following questions as best you can. You have access to the following tools:\\n\\nDuckDuckGo-Search: useful for when you need to search the internet for information\\nwikipedia: Useful for when you eed to look up a topic country or person on wikipedia\\n\\nUse the following format:\\n\\nQuestion: the input question you must answer\\nThought: you should always think about what to do\\nAction: the action to take, should be one of [DuckDuckGo-Search, wikipedia]\\nAction Input: the input to the action\\nObservation: the result of the action\\n... (this Thought/Action/Action Input/Observation can repeat N times)\\nThought: I now know the final answer\\nFinal Answer: the final answer to the original input question\\n\\nBegin!\\n\\nQuestion: how does the conversion rate optimization work?\\nThought: I should search for information on conversion rate optimization\\nAction: DuckDuckGo-Search\\nAction Input: \"conversion rate optimization\"\\nObservation: Learn how to increase the percentage of visitors who complete a desired action on your website with CRO. This guide covers what is CRO, how to calculate it, where to implement it, and how to use CRO strategies and tools. Conversion rate optimization definition: CRO is the practice of increasing the percentage of users who perform a desired action—or conversion—on a website. 6 steps for CRO success: Step 1: identify important conversions. Decide on the desired action you want to target, depending on your business. Step 2: analyze your conversion funnel. How to prepare for a CRO audit. A conversion rate optimization audit is a 360-degree evaluation of the user experience (UX) that tests how your webpage is performing, identifies factors that could be hurting your conversion rate, and helps you prioritize improvements.. The best time to do a CRO audit is after launch; be careful not to dive into a full-scale audit too early, before you\\'ve had ... Conversion rate optimization (CRO) is the process of increasing the percentage of visitors who perform a desired action on your website. This could be anything from buying a product, signing up for a webinar, interacting with live chat, to enrolling in a course upsell. But increasing conversions is not the be-all and end-all of CRO. Suppose you want to generate a turnover of €4 million next year, you will have to spend at least twice as much advertising budget (i.e., €150,000), increase your conversion rate from 2% to 4% or increase your average order value from €150 to €300. In general you can\\'t easily double the average order value, doubling your ad budget is ...\\nThought: I should also check Wikipedia for more information on conversion rate optimization\\nAction: wikipedia\\nAction Input: \"conversion rate optimization\"\\nObservation: Page: Conversion rate optimization\\nSummary: Conversion rate optimization (CRO) is the process of increasing the percentage of users or website visitors to take a desired action (such as buying a product or leaving contact details).\\n\\nPage: App store optimization\\nSummary: App store optimization (ASO) is the process of increasing an app or game’s visibility in an app store, with the objective of increasing organic app downloads. Apps are more visible when they rank highly on a wide variety of search terms (keyword optimization), maintain a high position in the top charts, or get featured on the store. Additionally, app store optimization encompasses activities that aim to increase the conversion of app impressions into downloads (conversion rate optimization).The two largest distribution channels for mobile apps are the App Store (iOS) and Google Play (Android). Other alternatives for downloading apps include the Huawei App Gallery, Amazon App Store and Samsung Galaxy Store.\\n\\nPage: Conversion marketing\\nSummary: In electronic commerce, conversion marketing is marketing with the intention of increasing conversions—that is, site visitors who are paying customers.\\nThought:'], 'frequency_penalty': 0, 'logit_bias': {}, 'max_tokens': 256, 'n': 1, 'presence_penalty': 0, 'stop': ['\\nObservation:', '\\n\\tObservation:'], 'temperature': 0.0, 'top_p': 1}}\n"
     ]
    },
    {
     "name": "stdout",
     "output_type": "stream",
     "text": [
      "\n",
      "Observation: \u001b[33;1m\u001b[1;3mPage: Conversion rate optimization\n",
      "Summary: Conversion rate optimization (CRO) is the process of increasing the percentage of users or website visitors to take a desired action (such as buying a product or leaving contact details).\n",
      "\n",
      "Page: App store optimization\n",
      "Summary: App store optimization (ASO) is the process of increasing an app or game’s visibility in an app store, with the objective of increasing organic app downloads. Apps are more visible when they rank highly on a wide variety of search terms (keyword optimization), maintain a high position in the top charts, or get featured on the store. Additionally, app store optimization encompasses activities that aim to increase the conversion of app impressions into downloads (conversion rate optimization).The two largest distribution channels for mobile apps are the App Store (iOS) and Google Play (Android). Other alternatives for downloading apps include the Huawei App Gallery, Amazon App Store and Samsung Galaxy Store.\n",
      "\n",
      "Page: Conversion marketing\n",
      "Summary: In electronic commerce, conversion marketing is marketing with the intention of increasing conversions—that is, site visitors who are paying customers.\u001b[0m\n",
      "Thought:"
     ]
    },
    {
     "name": "stderr",
     "output_type": "stream",
     "text": [
      "DEBUG:httpcore.http11:send_request_headers.started request=<Request [b'POST']>\n",
      "DEBUG:httpcore.http11:send_request_headers.complete\n",
      "DEBUG:httpcore.http11:send_request_body.started request=<Request [b'POST']>\n",
      "DEBUG:httpcore.http11:send_request_body.complete\n",
      "DEBUG:httpcore.http11:receive_response_headers.started request=<Request [b'POST']>\n",
      "DEBUG:httpcore.http11:receive_response_headers.complete return_value=(b'HTTP/1.1', 200, b'OK', [(b'Date', b'Tue, 05 Mar 2024 00:10:14 GMT'), (b'Content-Type', b'application/json'), (b'Transfer-Encoding', b'chunked'), (b'Connection', b'keep-alive'), (b'access-control-allow-origin', b'*'), (b'Cache-Control', b'no-cache, must-revalidate'), (b'openai-model', b'gpt-3.5-turbo-instruct'), (b'openai-organization', b'user-a4wpgwdf6yuhhn0rjoadsjhh'), (b'openai-processing-ms', b'1174'), (b'openai-version', b'2020-10-01'), (b'strict-transport-security', b'max-age=15724800; includeSubDomains'), (b'x-ratelimit-limit-requests', b'3000'), (b'x-ratelimit-limit-tokens', b'250000'), (b'x-ratelimit-remaining-requests', b'2999'), (b'x-ratelimit-remaining-tokens', b'248763'), (b'x-ratelimit-reset-requests', b'20ms'), (b'x-ratelimit-reset-tokens', b'296ms'), (b'x-request-id', b'req_c9b66649e5cb8ef5d923381980f6dfbf'), (b'CF-Cache-Status', b'DYNAMIC'), (b'Server', b'cloudflare'), (b'CF-RAY', b'85f5e1b68f5ecfd5-SJC'), (b'Content-Encoding', b'gzip'), (b'alt-svc', b'h3=\":443\"; ma=86400')])\n",
      "INFO:httpx:HTTP Request: POST https://api.openai.com/v1/completions \"HTTP/1.1 200 OK\"\n",
      "DEBUG:httpcore.http11:receive_response_body.started request=<Request [b'POST']>\n",
      "DEBUG:httpcore.http11:receive_response_body.complete\n",
      "DEBUG:httpcore.http11:response_closed.started\n",
      "DEBUG:httpcore.http11:response_closed.complete\n",
      "DEBUG:openai._base_client:HTTP Request: POST https://api.openai.com/v1/completions \"200 OK\"\n"
     ]
    },
    {
     "name": "stdout",
     "output_type": "stream",
     "text": [
      "\u001b[32;1m\u001b[1;3m I now know the final answer\n",
      "Final Answer: Conversion rate optimization is the process of increasing the percentage of users or website visitors to take a desired action, such as buying a product or leaving contact details. It involves analyzing the conversion funnel, conducting a CRO audit, and implementing strategies and tools to improve conversions. It is also important to consider other factors such as advertising budget and average order value when setting conversion goals. Additional resources for increasing conversions include app store optimization and conversion marketing.\u001b[0m\n",
      "\n",
      "\u001b[1m> Finished chain.\u001b[0m\n"
     ]
    },
    {
     "data": {
      "text/plain": [
       "'Conversion rate optimization is the process of increasing the percentage of users or website visitors to take a desired action, such as buying a product or leaving contact details. It involves analyzing the conversion funnel, conducting a CRO audit, and implementing strategies and tools to improve conversions. It is also important to consider other factors such as advertising budget and average order value when setting conversion goals. Additional resources for increasing conversions include app store optimization and conversion marketing.'"
      ]
     },
     "execution_count": 133,
     "metadata": {},
     "output_type": "execute_result"
    }
   ],
   "source": [
    "zero_shot_agent.run(\"how does the conversion rate optimization work?\")"
   ]
  }
 ],
 "metadata": {
  "kernelspec": {
   "display_name": "Python 3",
   "language": "python",
   "name": "python3"
  },
  "language_info": {
   "codemirror_mode": {
    "name": "ipython",
    "version": 3
   },
   "file_extension": ".py",
   "mimetype": "text/x-python",
   "name": "python",
   "nbconvert_exporter": "python",
   "pygments_lexer": "ipython3",
   "version": "3.9.13"
  }
 },
 "nbformat": 4,
 "nbformat_minor": 2
}
