{
 "cells": [
  {
   "cell_type": "code",
   "execution_count": 1,
   "metadata": {},
   "outputs": [],
   "source": [
    "from auto_generate import AutoGenerator"
   ]
  },
  {
   "cell_type": "code",
   "execution_count": 2,
   "metadata": {},
   "outputs": [],
   "source": [
    "# Create an instance of your ContentGenerator\n",
    "g = AutoGenerator('blog_v1.db')"
   ]
  },
  {
   "cell_type": "code",
   "execution_count": null,
   "metadata": {},
   "outputs": [],
   "source": [
    "keyword_link_pairs = [\n",
    "    (\"Keyword1\", \"https://example.com/link1\"),\n",
    "    (\"Keyword2\", \"https://example.com/link2\"),\n",
    "    (\"Keyword3\", \"https://example.com/link3\"),\n",
    "    # Add more pairs as needed\n",
    "]\n",
    "\n",
    "# Iterate over the pairs and generate content for each\n",
    "for keyword, link in keyword_link_pairs:\n",
    "    generated_content = g.generate_content(keyword, link)\n",
    "    # Do something with the generated content, e.g., save it to a file or database"
   ]
  }
 ],
 "metadata": {
  "kernelspec": {
   "display_name": "Python 3",
   "language": "python",
   "name": "python3"
  },
  "language_info": {
   "codemirror_mode": {
    "name": "ipython",
    "version": 3
   },
   "file_extension": ".py",
   "mimetype": "text/x-python",
   "name": "python",
   "nbconvert_exporter": "python",
   "pygments_lexer": "ipython3",
   "version": "3.9.13"
  }
 },
 "nbformat": 4,
 "nbformat_minor": 2
}
