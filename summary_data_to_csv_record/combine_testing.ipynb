{
 "cells": [
  {
   "cell_type": "code",
   "execution_count": 1,
   "metadata": {},
   "outputs": [],
   "source": [
    "from data_to_csv import *\n",
    "from info_generator import ContentCreator\n",
    "from content import ArticleGenerator\n",
    "#import info_generator, data_to_csv\n",
    "import logging"
   ]
  },
  {
   "cell_type": "code",
   "execution_count": 2,
   "metadata": {},
   "outputs": [],
   "source": [
    "class AutoGenerator:\n",
    "    def __init__(self, db_file_name):\n",
    "        self.content_generator = None\n",
    "        self.info_generator = None\n",
    "        self.database_generator = None\n",
    "        self.csv_geneator = None\n",
    "        self.link = None\n",
    "        self.keyword = None\n",
    "        self.db_file_name = db_file_name\n",
    "\n",
    "        # Configure logging\n",
    "        logging.basicConfig(filename='autogenerate.log', level=logging.INFO,\n",
    "                            format='%(asctime)s - %(levelname)s - %(message)s')\n",
    "    \n",
    "    def close(self):\n",
    "        self.database_generator.close_database()\n",
    "\n",
    "    def create(self,link, keyword):\n",
    "        try:\n",
    "            self.info_generator = ContentCreator()\n",
    "            self.info_generator.generate_info_from_content(link, keyword)\n",
    "            self.link = link\n",
    "            self.keyword = keyword\n",
    "            self.content_generator = self.info_generator.content_generator\n",
    "            self.database_generator = BlogDataToDatabase(self.db_file_name)\n",
    "            self.database_generator.add_blog_entry(self.info_generator.title, self.info_generator.html_content, self.info_generator.post_summary, self.info_generator.main_t_image, self.info_generator.main_t_image, self.info_generator.meta_title, self.info_generator.meta_description, self.info_generator.image_alt_text, self.info_generator.tag, self.info_generator.read_time_str) \n",
    "            self.database_generator.insert_json_data_to_db(self.content_generator.get_metadata())\n",
    "            logging.info(\"Content added successfully.\")\n",
    "        except Exception as e:\n",
    "            logging.error(f\"Error during data creation: {str(e)}\")\n",
    "\n",
    "    def export(self):\n",
    "        try:\n",
    "            self.csv_geneator = BlogDataToCSV(self.db_file_name)\n",
    "            self.csv_geneator.export_to_csv()\n",
    "            self.close()\n",
    "            logging.info(\"Export completed successfully.\")\n",
    "        except Exception as e:\n",
    "            logging.error(f\"Error during export: {str(e)}\")\n",
    "\n",
    "    def get_content_generate_result(self):\n",
    "        return self.content_generator.get_all_results()"
   ]
  }
 ],
 "metadata": {
  "kernelspec": {
   "display_name": "Python 3",
   "language": "python",
   "name": "python3"
  },
  "language_info": {
   "codemirror_mode": {
    "name": "ipython",
    "version": 3
   },
   "file_extension": ".py",
   "mimetype": "text/x-python",
   "name": "python",
   "nbconvert_exporter": "python",
   "pygments_lexer": "ipython3",
   "version": "3.9.13"
  }
 },
 "nbformat": 4,
 "nbformat_minor": 2
}
