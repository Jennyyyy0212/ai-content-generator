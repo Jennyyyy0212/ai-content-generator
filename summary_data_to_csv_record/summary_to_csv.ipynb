{
 "cells": [
  {
   "cell_type": "code",
   "execution_count": 1,
   "metadata": {},
   "outputs": [],
   "source": [
    "import pandas as pd\n",
    "import sqlite3"
   ]
  },
  {
   "cell_type": "code",
   "execution_count": 2,
   "metadata": {},
   "outputs": [],
   "source": [
    "class BlogDataToDatabase:\n",
    "    def __init__(self):\n",
    "        self.conn = sqlite3.connect('blog_data.db')  # SQLite database\n",
    "\n",
    "        # Create a table for the blog data if it doesn't exist\n",
    "        self.conn.execute('''\n",
    "            CREATE TABLE IF NOT EXISTS blog_data (\n",
    "                id INTEGER PRIMARY KEY AUTOINCREMENT,\n",
    "                Name TEXT,\n",
    "                Slug TEXT,\n",
    "                Collection_ID TEXT,\n",
    "                Item_ID TEXT,\n",
    "                Created_On TEXT,\n",
    "                Updated_On TEXT,\n",
    "                Published_On TEXT,\n",
    "                Post_Body TEXT,\n",
    "                Post_Summary TEXT,\n",
    "                Main_Image TEXT,\n",
    "                Thumbnail_Image TEXT,\n",
    "                Featured BOOLEAN,\n",
    "                Color TEXT,\n",
    "                Meta_Title TEXT,\n",
    "                Meta_Description TEXT,\n",
    "                Image_Alt_Text TEXT,\n",
    "                Tag TEXT,\n",
    "                Reading_Time TEXT\n",
    "            )\n",
    "        ''')\n",
    "\n",
    "    def add_blog_entry(self, name, post_body, post_summary, main_image, thumbnail_image, meta_title, \n",
    "                       meta_description, image_alt_text, tag, reading_time):\n",
    "        # Insert data into the database\n",
    "        self.conn.execute('''\n",
    "            INSERT INTO blog_data (Name, Slug, Collection_ID, Item_ID, Created_On, Updated_On, Published_On, \n",
    "                                  Post_Body, Post_Summary, Main_Image, Thumbnail_Image, Featured, Color, Meta_Title, \n",
    "                                  Meta_Description, Image_Alt_Text, Tag, Reading_Time)\n",
    "            VALUES (?, ?, ?, ?, ?, ?, ?, ?, ?, ?, ?, ?, ?, ?, ?, ?, ?, ?)\n",
    "        ''', (name, \"\", \"\", \"\", \"\", \"\", \"\", post_body, \n",
    "              post_summary, main_image, thumbnail_image, False, \"\", meta_title, meta_description, \n",
    "              image_alt_text, tag, reading_time))\n",
    "        # Commit the changes\n",
    "        self.conn.commit()\n",
    "\n",
    "    def close_database(self):\n",
    "        # Close the database connection\n",
    "        self.conn.close()"
   ]
  },
  {
   "cell_type": "code",
   "execution_count": 3,
   "metadata": {},
   "outputs": [],
   "source": [
    "class BlogDataToCSV:\n",
    "    def __init__(self, database_filename, csv_filename):\n",
    "        self.database_filename = database_filename\n",
    "        self.csv_filename = csv_filename\n",
    "\n",
    "    def export_to_csv(self):\n",
    "        # Retrieve data from the database and export it to CSV\n",
    "        conn = sqlite3.connect(self.database_filename)\n",
    "        query = \"SELECT * FROM blog_data\"\n",
    "        df = pd.read_sql_query(query, conn)\n",
    "        df.to_csv(self.csv_filename, index=False)\n",
    "\n",
    "        # Close the database connection\n",
    "        conn.close()"
   ]
  }
 ],
 "metadata": {
  "kernelspec": {
   "display_name": "Python 3",
   "language": "python",
   "name": "python3"
  },
  "language_info": {
   "codemirror_mode": {
    "name": "ipython",
    "version": 3
   },
   "file_extension": ".py",
   "mimetype": "text/x-python",
   "name": "python",
   "nbconvert_exporter": "python",
   "pygments_lexer": "ipython3",
   "version": "3.9.13"
  }
 },
 "nbformat": 4,
 "nbformat_minor": 2
}
