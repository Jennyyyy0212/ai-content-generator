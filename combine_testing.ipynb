{
 "cells": [
  {
   "cell_type": "code",
   "execution_count": 1,
   "metadata": {},
   "outputs": [],
   "source": [
    "from data_to_csv import *\n",
    "from info_generator import ContentCreator\n",
    "#import info_generator, data_to_csv"
   ]
  },
  {
   "cell_type": "code",
   "execution_count": 21,
   "metadata": {},
   "outputs": [],
   "source": [
    "class AutoGenerate:\n",
    "    def __init__(self, db_file_name, csv_file_name):\n",
    "        self.content_generator = None\n",
    "        self.info_generator = None\n",
    "        self.database_generator = None\n",
    "        self.csv_geneator = None\n",
    "        self.link = None\n",
    "        self.keyword = None\n",
    "        self.db_file_name = db_file_name\n",
    "        self.csv_file_name = csv_file_name\n",
    "    \n",
    "    def close(self):\n",
    "        self.database_generator.close_database()\n",
    "\n",
    "    def create(self,link, keyword):\n",
    "        self.info_generator = ContentCreator()\n",
    "        self.info_generator.generate_info_from_content(link, keyword)\n",
    "        self.link = link\n",
    "        self.keyword = keyword\n",
    "        self.content_generator = self.info_generator.content_generator\n",
    "        self.database_generator = BlogDataToDatabase()\n",
    "        self.database_generator.add_blog_entry(self.info_generator.title, self.info_generator.html_content, self.info_generator.post_summary, self.info_generator.main_t_image, self.info_generator.main_t_image, self.info_generator.meta_title, self.info_generator.meta_description, self.info_generator.image_alt_text, self.info_generator.tag, self.info_generator.read_time_str) \n",
    "\n",
    "    def export(self):\n",
    "        self.csv_geneator = BlogDataToCSV(self.db_file_name, self.csv_file_name)\n",
    "        self.csv_geneator.export_to_csv()\n",
    "        self.close()\n",
    "\n",
    "    def get_content_generate_result(self):\n",
    "        return self.content_generator.get_all_results()\n",
    "        "
   ]
  },
  {
   "cell_type": "code",
   "execution_count": 2,
   "metadata": {},
   "outputs": [],
   "source": [
    "# Test \n",
    "keyword1 = \"Conversion Roadmap\"\n",
    "link1 = \"https://www.invespcro.com/blog/creating-a-conversion-roadmap-how-to-prioritize-conversion-problems-on-your-website/\"\n"
   ]
  },
  {
   "cell_type": "code",
   "execution_count": 15,
   "metadata": {},
   "outputs": [],
   "source": [
    "keyword2 = \"website conversions\"\n",
    "link2 = \"https://www.gartner.com/en/digital-markets/insights/how-to-increase-conversion-rates\""
   ]
  },
  {
   "cell_type": "code",
   "execution_count": 22,
   "metadata": {},
   "outputs": [],
   "source": [
    "i = AutoGenerate('test_blog_data.db','test_blog_data.csv')\n"
   ]
  }
 ],
 "metadata": {
  "kernelspec": {
   "display_name": "Python 3",
   "language": "python",
   "name": "python3"
  },
  "language_info": {
   "codemirror_mode": {
    "name": "ipython",
    "version": 3
   },
   "file_extension": ".py",
   "mimetype": "text/x-python",
   "name": "python",
   "nbconvert_exporter": "python",
   "pygments_lexer": "ipython3",
   "version": "3.9.13"
  }
 },
 "nbformat": 4,
 "nbformat_minor": 2
}
